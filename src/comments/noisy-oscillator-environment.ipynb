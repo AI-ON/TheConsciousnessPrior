{
 "cells": [
  {
   "cell_type": "markdown",
   "metadata": {},
   "source": [
    "## Noisy oscillator environment\n",
    "\n",
    "Author: [Ilya Schurov](http://github.com/ischurov/TheConsciousnessPrior).\n",
    "\n",
    "The following environment is aimed to provide the simplest possible interesting example. \n",
    "\n",
    "The inputs are two-dimensional vectors $x_t = (x_{t1}, x_{t2}) \\in \\mathbb R^2$ that depends on $t$ in the following way. For some fixed linearly independent vectors $u_h, u_r \\in \\mathbb R^2$, we have:\n",
    "\n",
    "$$x_t = u_h q_t + u_r w_t,\\tag{1}$$\n",
    "\n",
    "where $q_t = A \\sin (\\omega(t-B))$, $A$, $B$ and $\\omega$ are constants, and $w_t$ is a random noise (for example, all $w_t$'s are independent and uniformly distributed in $[-1, 1]$).\n",
    "\n",
    "This means that we have two directions. In one direction ($u_h$) we have harmonic oscillations ($h$ stands for _harmonic_) and in another direction ($u_r$, $r$ for _random_) it is just a noise.\n",
    "\n",
    "Assume that $\\omega$ is fixed forever. If one knows $u_h$ and $u_r$, it is possible to reconstruct the whole $q_t$ by looking at exactly two moments of time (as we have only two unknown parameters, namely $A$ and $B$) and thus obtain perfect predictions. It is also impossible to make any predictions of $w_t$ due to their randomness.\n",
    "\n",
    "### How this environment fits into Yoshua's framework\n",
    "1. Define a set of rules which refer to a set of underlying high-level variables and allow one to predict the part of the input dynamics which is predictable (which are the values of some high-level variables)\n",
    "> $q_t$ is the only high-level variable. The rule is harmonic oscillation, that can be easily catched by a simple linear recurrence.\n",
    "2. The high-level variables are not directly observed but are complicated functions of the input (like objects and their positions and other attributes, in a sequence of images)\n",
    "> One have to know the direction $u_h$ to observe $q_t$. It is probably possible to reconstruct $u_h$ from the data, but exact function seem to be complicated.\n",
    "3. Other aspects of the input which also vary in time are much more numerous than the high-level variables but have no coherent structure (e.g. unpredictable noise)\n",
    "> We currently have only one noisy aspect of input due to super-simplicity, but of course can add more, i.e. make $w_t$ multi-dimensional.\n",
    "\n",
    "### Problems and hypothesis\n",
    "1. If one knows $u_h$ and $u_r$, one can obtain $q_t$ and $w_t$ from the data and feed $q_t$ to simple recurrent network without nonlinearities that will predict future $q_t$'s perfectly just after two steps or so. (Learning a rotation matrix.)\n",
    "2. CP-aware architecture should be able to disentangle deterministic and random parts of the input, i.e. to reconstruct vectors $u_h$ and $u_r$.\n",
    "3. The conscious function $C$ can be learned as a linear function from $\\mathbb R^2$ to $\\mathbb R^1$ (i.e. it's a kind of soft attention). If $u_h$ and $u_r$ do not depend on $t$, conscious (as a function) should not depend on $t$ either (but the value $h_t=C(x_t)$ depends on $x_t$, so $h_t$ is not a constant).\n",
    "4. It is not clear how to deal with _delusion box_ failure mode here (i.e. $h_t=const$ and is perfectly predictable). Mutual information doesn't seem to be helpful as the desired conscious is not random. Probably, we just have to add some penalty for too small coefficients of $C$.\n",
    "\n",
    "### Variations and generalizations\n",
    "1. Both oscillating and random parts can be made multi-dimensional.\n",
    "2. Random parts can be a kind of random walk instead of independent random variables.\n",
    "3. The embedding (1) can be made time-dependent (i.e. vectors $u_h$ and $u_r$ depend on time) as well as consious function $C$.\n",
    "4. The embedding (1) can be made non-linear as well as consious function $C$."
   ]
  }
 ],
 "metadata": {
  "kernelspec": {
   "display_name": "Python 3",
   "language": "python",
   "name": "python3"
  },
  "language_info": {
   "codemirror_mode": {
    "name": "ipython",
    "version": 3
   },
   "file_extension": ".py",
   "mimetype": "text/x-python",
   "name": "python",
   "nbconvert_exporter": "python",
   "pygments_lexer": "ipython3",
   "version": "3.6.1"
  }
 },
 "nbformat": 4,
 "nbformat_minor": 2
}
